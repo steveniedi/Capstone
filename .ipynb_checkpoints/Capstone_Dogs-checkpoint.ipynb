{
 "cells": [
  {
   "cell_type": "code",
   "execution_count": 1,
   "metadata": {},
   "outputs": [],
   "source": [
    "# Imports\n",
    "import pandas as pd\n",
    "import numpy as np\n",
    "import matplotlib.pyplot as plt\n",
    "from sklearn.model_selection import train_test_split, GridSearchCV, cross_val_score\n",
    "from sklearn.feature_extraction.text import CountVectorizer, TfidfVectorizer\n",
    "from sklearn.preprocessing import PolynomialFeatures\n",
    "from sklearn.naive_bayes import MultinomialNB, GaussianNB        \n",
    "from sklearn.linear_model import LogisticRegression\n",
    "from sklearn.ensemble import RandomForestClassifier, AdaBoostClassifier, GradientBoostingClassifier\n",
    "from sklearn import metrics\n",
    "from sklearn.metrics import classification_report, accuracy_score\n",
    "import re\n",
    "from sklearn.pipeline import Pipeline\n",
    "from textblob import TextBlob, Word\n",
    "from nltk.stem.snowball import SnowballStemmer\n",
    "from nltk.tokenize import RegexpTokenizer\n",
    "from nltk.stem import WordNetLemmatizer\n",
    "import pdfminer"
   ]
  },
  {
   "cell_type": "code",
   "execution_count": 2,
   "metadata": {},
   "outputs": [],
   "source": [
    "# Reading in Accepted Adoption Forms as 'accepted'\n",
    "accepted = pd.read_csv('./data/IOHR_APPROVED.csv', encoding='latin-1')"
   ]
  },
  {
   "cell_type": "code",
   "execution_count": 3,
   "metadata": {},
   "outputs": [
    {
     "data": {
      "text/html": [
       "<div>\n",
       "<style scoped>\n",
       "    .dataframe tbody tr th:only-of-type {\n",
       "        vertical-align: middle;\n",
       "    }\n",
       "\n",
       "    .dataframe tbody tr th {\n",
       "        vertical-align: top;\n",
       "    }\n",
       "\n",
       "    .dataframe thead th {\n",
       "        text-align: right;\n",
       "    }\n",
       "</style>\n",
       "<table border=\"1\" class=\"dataframe\">\n",
       "  <thead>\n",
       "    <tr style=\"text-align: right;\">\n",
       "      <th></th>\n",
       "      <th>Application ID</th>\n",
       "      <th>Do you own or rent?</th>\n",
       "      <th>If you rent, does your landlord allow pets?</th>\n",
       "      <th>Does your landlord or home insurance place any breed or weight restrictions on the animals you are allowed to have?</th>\n",
       "      <th>Do you have a yard?</th>\n",
       "      <th>Do you have screens in your windows?</th>\n",
       "      <th>Are all the members of your household in agreement about adopting a dog?</th>\n",
       "      <th>Does anyone in the household have pet allergies?</th>\n",
       "      <th>Do you live in public housing (NYCHA, projects, section 8)?</th>\n",
       "      <th>Are you at least 21 years of age and head of household? If not, you will not be approved to adopt with IOHR.</th>\n",
       "      <th>...</th>\n",
       "      <th>Please provide the name and phone number for your most recent or current veterinarian (even if you don't have the animals anymore). What name are the records listed under? Please note that some vets require your permission to release information to us; please call your vet now and give them permission as this will help expedite the application process!</th>\n",
       "      <th>On a regular day, how many hours will the dog be left alone?</th>\n",
       "      <th>Where will the dog be kept?</th>\n",
       "      <th>Do you have a contingency plan to pay for unexpected emergency vet bills?</th>\n",
       "      <th>How soon do you want to adopt a pup?</th>\n",
       "      <th>Have you ever had to give up a pet? If so, why and where did the pet go?</th>\n",
       "      <th>Have you been involved in domestic disturbances in which the police were called in your current living situation?</th>\n",
       "      <th>If you are adopting with a partner, are you in agreement that the dog will go with one of you should you separate, and not be surrendered back to us or a shelter?</th>\n",
       "      <th>If you are a senior or have serious health conditions, do you have a contingency plan for the dog should you no longer be able to care for it? What is the plan?</th>\n",
       "      <th>Are you willing to work through unexpected hardships with your pet and hire a trainer if need be? i.e. housetraining, separation anxiety, fear, socialization, acclimation to other animals, etc</th>\n",
       "    </tr>\n",
       "  </thead>\n",
       "  <tbody>\n",
       "    <tr>\n",
       "      <th>0</th>\n",
       "      <td>https://ps31.petstablished.com/adoption_applic...</td>\n",
       "      <td>Own</td>\n",
       "      <td>I own my home and do not need approval from a ...</td>\n",
       "      <td>NaN</td>\n",
       "      <td>Yes, a fenced yard.</td>\n",
       "      <td>Yes</td>\n",
       "      <td>Yes</td>\n",
       "      <td>Yes, Ella and I do have allergies to certain b...</td>\n",
       "      <td>No</td>\n",
       "      <td>yes</td>\n",
       "      <td>...</td>\n",
       "      <td>Animal Wellness Center 631-351-0447</td>\n",
       "      <td>0 - 4</td>\n",
       "      <td>In our home, dog bed will likely be placed in ...</td>\n",
       "      <td>We had a care credit card with our vet which w...</td>\n",
       "      <td>I am uncertain, it would depend on me finding ...</td>\n",
       "      <td>No</td>\n",
       "      <td>No</td>\n",
       "      <td>Yes</td>\n",
       "      <td>NaN</td>\n",
       "      <td>Yes</td>\n",
       "    </tr>\n",
       "    <tr>\n",
       "      <th>1</th>\n",
       "      <td>https://ps31.petstablished.com/adoption_applic...</td>\n",
       "      <td>Own</td>\n",
       "      <td>I own my home and do not need approval from a ...</td>\n",
       "      <td>No</td>\n",
       "      <td>Yes, a fenced yard.</td>\n",
       "      <td>Yes</td>\n",
       "      <td>Yes</td>\n",
       "      <td>No</td>\n",
       "      <td>No</td>\n",
       "      <td>Yes</td>\n",
       "      <td>...</td>\n",
       "      <td>Light Street Animal Hospital - (410) 547-8385</td>\n",
       "      <td>0 - 4</td>\n",
       "      <td>In a large crate if needed, but mostly with me...</td>\n",
       "      <td>Yes, emergency savings account</td>\n",
       "      <td>Right away, hand that dog over!</td>\n",
       "      <td>No</td>\n",
       "      <td>No</td>\n",
       "      <td>Yes</td>\n",
       "      <td>I am 25 years old and in good health. Worst ca...</td>\n",
       "      <td>Yes</td>\n",
       "    </tr>\n",
       "    <tr>\n",
       "      <th>2</th>\n",
       "      <td>https://ps31.petstablished.com/adoption_applic...</td>\n",
       "      <td>Own</td>\n",
       "      <td>I own my home and do not need approval from a ...</td>\n",
       "      <td>no</td>\n",
       "      <td>Yes, an unfenced yard.</td>\n",
       "      <td>Yes</td>\n",
       "      <td>Yes</td>\n",
       "      <td>Husband</td>\n",
       "      <td>No</td>\n",
       "      <td>Yes</td>\n",
       "      <td>...</td>\n",
       "      <td>Park Circle Animal Hospital 362 Virginia Ave, ...</td>\n",
       "      <td>0 - 4</td>\n",
       "      <td>In our home</td>\n",
       "      <td>NaN</td>\n",
       "      <td>I am taking my time, a few weeks is fine</td>\n",
       "      <td>No</td>\n",
       "      <td>No</td>\n",
       "      <td>Yes</td>\n",
       "      <td>I am a senior in good health, but in the event...</td>\n",
       "      <td>Yes</td>\n",
       "    </tr>\n",
       "    <tr>\n",
       "      <th>3</th>\n",
       "      <td>https://ps31.petstablished.com/adoption_applic...</td>\n",
       "      <td>Rent</td>\n",
       "      <td>Yes, my landlord allows pets</td>\n",
       "      <td>Nom</td>\n",
       "      <td>I don't have a yard.</td>\n",
       "      <td>No</td>\n",
       "      <td>Yes</td>\n",
       "      <td>No</td>\n",
       "      <td>No</td>\n",
       "      <td>Yes</td>\n",
       "      <td>...</td>\n",
       "      <td>Dr. Pet Daddy(Dr. Yoo), 2715 24th Ave, Astoria...</td>\n",
       "      <td>4 - 8</td>\n",
       "      <td>Bedroom mine on their own beds that surround mine</td>\n",
       "      <td>Pet insured, savings, Care credit</td>\n",
       "      <td>I am taking my time, a few weeks is fine</td>\n",
       "      <td>NeverÑ I have had pets most of my life, no sur...</td>\n",
       "      <td>No</td>\n",
       "      <td>Na</td>\n",
       "      <td>Yes. I am a youthful seniorÑ see my InstagramM...</td>\n",
       "      <td>Yes</td>\n",
       "    </tr>\n",
       "    <tr>\n",
       "      <th>4</th>\n",
       "      <td>https://ps31.petstablished.com/adoption_applic...</td>\n",
       "      <td>Own</td>\n",
       "      <td>I own my home and do not need approval from a ...</td>\n",
       "      <td>NaN</td>\n",
       "      <td>Yes, an unfenced yard.</td>\n",
       "      <td>Yes</td>\n",
       "      <td>Yes</td>\n",
       "      <td>No</td>\n",
       "      <td>No</td>\n",
       "      <td>Yes a bit older but have the energy of a 21 yr...</td>\n",
       "      <td>...</td>\n",
       "      <td>Jeff Sachar 203 876 7471</td>\n",
       "      <td>0 - 4</td>\n",
       "      <td>Crate</td>\n",
       "      <td>I have spent quite a bit of money on vet bill ...</td>\n",
       "      <td>I am taking my time, a few weeks is fine</td>\n",
       "      <td>No</td>\n",
       "      <td>No</td>\n",
       "      <td>Married 49 yrs doubt we r separating but since...</td>\n",
       "      <td>IÕm a senior in excellent health but I have tw...</td>\n",
       "      <td>Yes</td>\n",
       "    </tr>\n",
       "  </tbody>\n",
       "</table>\n",
       "<p>5 rows × 26 columns</p>\n",
       "</div>"
      ],
      "text/plain": [
       "                                      Application ID Do you own or rent?  \\\n",
       "0  https://ps31.petstablished.com/adoption_applic...                 Own   \n",
       "1  https://ps31.petstablished.com/adoption_applic...                 Own   \n",
       "2  https://ps31.petstablished.com/adoption_applic...                 Own   \n",
       "3  https://ps31.petstablished.com/adoption_applic...                Rent   \n",
       "4  https://ps31.petstablished.com/adoption_applic...                 Own   \n",
       "\n",
       "         If you rent, does your landlord allow pets?  \\\n",
       "0  I own my home and do not need approval from a ...   \n",
       "1  I own my home and do not need approval from a ...   \n",
       "2  I own my home and do not need approval from a ...   \n",
       "3                       Yes, my landlord allows pets   \n",
       "4  I own my home and do not need approval from a ...   \n",
       "\n",
       "  Does your landlord or home insurance place any breed or weight restrictions on the animals you are allowed to have?  \\\n",
       "0                                                NaN                                                                    \n",
       "1                                                 No                                                                    \n",
       "2                                                 no                                                                    \n",
       "3                                                Nom                                                                    \n",
       "4                                                NaN                                                                    \n",
       "\n",
       "      Do you have a yard? Do you have screens in your windows?  \\\n",
       "0     Yes, a fenced yard.                                  Yes   \n",
       "1     Yes, a fenced yard.                                  Yes   \n",
       "2  Yes, an unfenced yard.                                  Yes   \n",
       "3   I don't have a yard.                                    No   \n",
       "4  Yes, an unfenced yard.                                  Yes   \n",
       "\n",
       "  Are all the members of your household in agreement about adopting a dog?  \\\n",
       "0                                                Yes                         \n",
       "1                                                Yes                         \n",
       "2                                                Yes                         \n",
       "3                                                Yes                         \n",
       "4                                                Yes                         \n",
       "\n",
       "    Does anyone in the household have pet allergies?  \\\n",
       "0  Yes, Ella and I do have allergies to certain b...   \n",
       "1                                                 No   \n",
       "2                                            Husband   \n",
       "3                                                 No   \n",
       "4                                                 No   \n",
       "\n",
       "  Do you live in public housing (NYCHA, projects, section 8)?  \\\n",
       "0                                                 No            \n",
       "1                                                 No            \n",
       "2                                                 No            \n",
       "3                                                 No            \n",
       "4                                                 No            \n",
       "\n",
       "  Are you at least 21 years of age and head of household? If not, you will not be approved to adopt with IOHR.  \\\n",
       "0                                                yes                                                             \n",
       "1                                                Yes                                                             \n",
       "2                                                Yes                                                             \n",
       "3                                                Yes                                                             \n",
       "4  Yes a bit older but have the energy of a 21 yr...                                                             \n",
       "\n",
       "   ...  \\\n",
       "0  ...   \n",
       "1  ...   \n",
       "2  ...   \n",
       "3  ...   \n",
       "4  ...   \n",
       "\n",
       "  Please provide the name and phone number for your most recent or current veterinarian (even if you don't have the animals anymore). What name are the records listed under? Please note that some vets require your permission to release information to us; please call your vet now and give them permission as this will help expedite the application process!  \\\n",
       "0                Animal Wellness Center 631-351-0447                                                                                                                                                                                                                                                                                                                   \n",
       "1      Light Street Animal Hospital - (410) 547-8385                                                                                                                                                                                                                                                                                                                   \n",
       "2  Park Circle Animal Hospital 362 Virginia Ave, ...                                                                                                                                                                                                                                                                                                                   \n",
       "3  Dr. Pet Daddy(Dr. Yoo), 2715 24th Ave, Astoria...                                                                                                                                                                                                                                                                                                                   \n",
       "4                           Jeff Sachar 203 876 7471                                                                                                                                                                                                                                                                                                                   \n",
       "\n",
       "  On a regular day, how many hours will the dog be left alone?  \\\n",
       "0                                              0 - 4             \n",
       "1                                              0 - 4             \n",
       "2                                              0 - 4             \n",
       "3                                              4 - 8             \n",
       "4                                              0 - 4             \n",
       "\n",
       "                         Where will the dog be kept?  \\\n",
       "0  In our home, dog bed will likely be placed in ...   \n",
       "1  In a large crate if needed, but mostly with me...   \n",
       "2                                       In our home    \n",
       "3  Bedroom mine on their own beds that surround mine   \n",
       "4                                             Crate    \n",
       "\n",
       "  Do you have a contingency plan to pay for unexpected emergency vet bills?  \\\n",
       "0  We had a care credit card with our vet which w...                          \n",
       "1                    Yes, emergency savings account                           \n",
       "2                                                NaN                          \n",
       "3                  Pet insured, savings, Care credit                          \n",
       "4  I have spent quite a bit of money on vet bill ...                          \n",
       "\n",
       "                How soon do you want to adopt a pup?  \\\n",
       "0  I am uncertain, it would depend on me finding ...   \n",
       "1                    Right away, hand that dog over!   \n",
       "2          I am taking my time, a few weeks is fine    \n",
       "3          I am taking my time, a few weeks is fine    \n",
       "4          I am taking my time, a few weeks is fine    \n",
       "\n",
       "  Have you ever had to give up a pet? If so, why and where did the pet go?  \\\n",
       "0                                                 No                         \n",
       "1                                                No                          \n",
       "2                                                 No                         \n",
       "3  NeverÑ I have had pets most of my life, no sur...                         \n",
       "4                                                 No                         \n",
       "\n",
       "  Have you been involved in domestic disturbances in which the police were called in your current living situation?  \\\n",
       "0                                                 No                                                                  \n",
       "1                                                 No                                                                  \n",
       "2                                                 No                                                                  \n",
       "3                                                 No                                                                  \n",
       "4                                                 No                                                                  \n",
       "\n",
       "  If you are adopting with a partner, are you in agreement that the dog will go with one of you should you separate, and not be surrendered back to us or a shelter?  \\\n",
       "0                                                Yes                                                                                                                   \n",
       "1                                               Yes                                                                                                                    \n",
       "2                                                Yes                                                                                                                   \n",
       "3                                                 Na                                                                                                                   \n",
       "4  Married 49 yrs doubt we r separating but since...                                                                                                                   \n",
       "\n",
       "  If you are a senior or have serious health conditions, do you have a contingency plan for the dog should you no longer be able to care for it? What is the plan?  \\\n",
       "0                                                NaN                                                                                                                 \n",
       "1  I am 25 years old and in good health. Worst ca...                                                                                                                 \n",
       "2  I am a senior in good health, but in the event...                                                                                                                 \n",
       "3  Yes. I am a youthful seniorÑ see my InstagramM...                                                                                                                 \n",
       "4  IÕm a senior in excellent health but I have tw...                                                                                                                 \n",
       "\n",
       "  Are you willing to work through unexpected hardships with your pet and hire a trainer if need be? i.e. housetraining, separation anxiety, fear, socialization, acclimation to other animals, etc  \n",
       "0                                                Yes                                                                                                                                                \n",
       "1                                                Yes                                                                                                                                                \n",
       "2                                                Yes                                                                                                                                                \n",
       "3                                                Yes                                                                                                                                                \n",
       "4                                                Yes                                                                                                                                                \n",
       "\n",
       "[5 rows x 26 columns]"
      ]
     },
     "execution_count": 3,
     "metadata": {},
     "output_type": "execute_result"
    }
   ],
   "source": [
    "# Inspecting dataframe\n",
    "accepted.head()"
   ]
  },
  {
   "cell_type": "code",
   "execution_count": 4,
   "metadata": {},
   "outputs": [],
   "source": [
    "# Reading in Rejected Adoption Forms as 'rejected'\n",
    "rejected = pd.read_csv('./data/ IOHR_REJECTS.csv', encoding='latin-1')"
   ]
  },
  {
   "cell_type": "code",
   "execution_count": 5,
   "metadata": {},
   "outputs": [
    {
     "data": {
      "text/html": [
       "<div>\n",
       "<style scoped>\n",
       "    .dataframe tbody tr th:only-of-type {\n",
       "        vertical-align: middle;\n",
       "    }\n",
       "\n",
       "    .dataframe tbody tr th {\n",
       "        vertical-align: top;\n",
       "    }\n",
       "\n",
       "    .dataframe thead th {\n",
       "        text-align: right;\n",
       "    }\n",
       "</style>\n",
       "<table border=\"1\" class=\"dataframe\">\n",
       "  <thead>\n",
       "    <tr style=\"text-align: right;\">\n",
       "      <th></th>\n",
       "      <th>Application ID</th>\n",
       "      <th>Do you own or rent?</th>\n",
       "      <th>If you rent, does your landlord allow pets?</th>\n",
       "      <th>Does your landlord or home insurance place any breed or weight restrictions on the animals you are allowed to have?</th>\n",
       "      <th>Do you have a yard?</th>\n",
       "      <th>Do you have screens in your windows?</th>\n",
       "      <th>Are all the members of your household in agreement about adopting a dog?</th>\n",
       "      <th>Does anyone in the household have pet allergies?</th>\n",
       "      <th>Do you live in public housing (NYCHA, projects, section 8)?</th>\n",
       "      <th>Are you at least 21 years of age and head of household? If not, you will not be approved to adopt with IOHR.</th>\n",
       "      <th>...</th>\n",
       "      <th>Please provide the name and phone number for your most recent or current veterinarian (even if you don't have the animals anymore). What name are the records listed under? Please note that some vets require your permission to release information to us; please call your vet now and give them permission as this will help expedite the application process!</th>\n",
       "      <th>On a regular day, how many hours will the dog be left alone?</th>\n",
       "      <th>Where will the dog be kept?</th>\n",
       "      <th>Do you have a contingency plan to pay for unexpected emergency vet bills?</th>\n",
       "      <th>How soon do you want to adopt a pup?</th>\n",
       "      <th>Have you ever had to give up a pet? If so, why and where did the pet go?</th>\n",
       "      <th>Have you been involved in domestic disturbances in which the police were called in your current living situation?</th>\n",
       "      <th>If you are adopting with a partner, are you in agreement that the dog will go with one of you should you separate, and not be surrendered back to us or a shelter?</th>\n",
       "      <th>If you are a senior or have serious health conditions, do you have a contingency plan for the dog should you no longer be able to care for it? What is the plan?</th>\n",
       "      <th>Are you willing to work through unexpected hardships with your pet and hire a trainer if need be? i.e. housetraining, separation anxiety, fear, socialization, acclimation to other animals, etc</th>\n",
       "    </tr>\n",
       "  </thead>\n",
       "  <tbody>\n",
       "    <tr>\n",
       "      <th>0</th>\n",
       "      <td>https://ps31.petstablished.com/adoption_applic...</td>\n",
       "      <td>Rent</td>\n",
       "      <td>Yes, my landlord allows pets</td>\n",
       "      <td>No restrictions!</td>\n",
       "      <td>I don't have a yard.</td>\n",
       "      <td>Yes</td>\n",
       "      <td>Yes</td>\n",
       "      <td>No</td>\n",
       "      <td>No</td>\n",
       "      <td>Yes, I am 22.</td>\n",
       "      <td>...</td>\n",
       "      <td>Since I haven't had an animal of my own, I don...</td>\n",
       "      <td>4 - 8</td>\n",
       "      <td>He will live indoors in my roomy studio!</td>\n",
       "      <td>Yes, my parents are able to support me financi...</td>\n",
       "      <td>I am uncertain, it would depend on me finding ...</td>\n",
       "      <td>Nope!</td>\n",
       "      <td>Nope!</td>\n",
       "      <td>Yes, although my boyfriend David is excited ab...</td>\n",
       "      <td>Although I'm not a senior or have serious heal...</td>\n",
       "      <td>Yes</td>\n",
       "    </tr>\n",
       "    <tr>\n",
       "      <th>1</th>\n",
       "      <td>https://ps31.petstablished.com/adoption_applic...</td>\n",
       "      <td>Own</td>\n",
       "      <td>NaN</td>\n",
       "      <td>NaN</td>\n",
       "      <td>Yes, a fenced yard.</td>\n",
       "      <td>Yes</td>\n",
       "      <td>Yes</td>\n",
       "      <td>NO</td>\n",
       "      <td>No</td>\n",
       "      <td>48 years old head of household</td>\n",
       "      <td>...</td>\n",
       "      <td>Lanoka Oaks Veterinarian</td>\n",
       "      <td>0 - 4</td>\n",
       "      <td>In our house, with their own bed.</td>\n",
       "      <td>Yes a savings.</td>\n",
       "      <td>Right away, hand that dog over!</td>\n",
       "      <td>no</td>\n",
       "      <td>no</td>\n",
       "      <td>na</td>\n",
       "      <td>NaN</td>\n",
       "      <td>Yes</td>\n",
       "    </tr>\n",
       "    <tr>\n",
       "      <th>2</th>\n",
       "      <td>https://ps31.petstablished.com/adoption_applic...</td>\n",
       "      <td>Rent</td>\n",
       "      <td>Yes, my landlord allows pets</td>\n",
       "      <td>No</td>\n",
       "      <td>I don't have a yard.</td>\n",
       "      <td>No</td>\n",
       "      <td>Yes</td>\n",
       "      <td>No</td>\n",
       "      <td>No</td>\n",
       "      <td>Yes</td>\n",
       "      <td>...</td>\n",
       "      <td>I donÕt have the number anymore</td>\n",
       "      <td>0 - 4</td>\n",
       "      <td>In my apartment</td>\n",
       "      <td>Yes my parents help my out with any extra expe...</td>\n",
       "      <td>Right away, hand that dog over!</td>\n",
       "      <td>No but I did move out and my parents kept and ...</td>\n",
       "      <td>No</td>\n",
       "      <td>Yes but I have no partner</td>\n",
       "      <td>My parents, sister or cousin would take the do...</td>\n",
       "      <td>Yes</td>\n",
       "    </tr>\n",
       "    <tr>\n",
       "      <th>3</th>\n",
       "      <td>https://ps31.petstablished.com/adoption_applic...</td>\n",
       "      <td>Rent</td>\n",
       "      <td>Yes, my landlord allows pets</td>\n",
       "      <td>No</td>\n",
       "      <td>I don't have a yard.</td>\n",
       "      <td>Yes</td>\n",
       "      <td>Yes</td>\n",
       "      <td>No</td>\n",
       "      <td>No</td>\n",
       "      <td>Yes</td>\n",
       "      <td>...</td>\n",
       "      <td>Animal care center- Dr. Monica Kennedy and dr....</td>\n",
       "      <td>0 - 4</td>\n",
       "      <td>In a crate when alone, free to roam when super...</td>\n",
       "      <td>Savings</td>\n",
       "      <td>Right away, hand that dog over!</td>\n",
       "      <td>No</td>\n",
       "      <td>No</td>\n",
       "      <td>Yes</td>\n",
       "      <td>N/a</td>\n",
       "      <td>Yes</td>\n",
       "    </tr>\n",
       "    <tr>\n",
       "      <th>4</th>\n",
       "      <td>https://ps31.petstablished.com/adoption_applic...</td>\n",
       "      <td>Rent</td>\n",
       "      <td>Yes, my landlord allows pets</td>\n",
       "      <td>No</td>\n",
       "      <td>I don't have a yard.</td>\n",
       "      <td>Yes</td>\n",
       "      <td>Yes</td>\n",
       "      <td>no</td>\n",
       "      <td>No</td>\n",
       "      <td>yes</td>\n",
       "      <td>...</td>\n",
       "      <td>I have not had a vet in some years now. The ve...</td>\n",
       "      <td>0 - 4</td>\n",
       "      <td>In the house with supervison or at daycare</td>\n",
       "      <td>Yes, we have a savings account along with purc...</td>\n",
       "      <td>I am thinking probably in the next few days</td>\n",
       "      <td>No</td>\n",
       "      <td>No</td>\n",
       "      <td>Yes.</td>\n",
       "      <td>NaN</td>\n",
       "      <td>Yes</td>\n",
       "    </tr>\n",
       "  </tbody>\n",
       "</table>\n",
       "<p>5 rows × 26 columns</p>\n",
       "</div>"
      ],
      "text/plain": [
       "                                      Application ID Do you own or rent?  \\\n",
       "0  https://ps31.petstablished.com/adoption_applic...                Rent   \n",
       "1  https://ps31.petstablished.com/adoption_applic...                 Own   \n",
       "2  https://ps31.petstablished.com/adoption_applic...                Rent   \n",
       "3  https://ps31.petstablished.com/adoption_applic...                Rent   \n",
       "4  https://ps31.petstablished.com/adoption_applic...                Rent   \n",
       "\n",
       "  If you rent, does your landlord allow pets?  \\\n",
       "0                Yes, my landlord allows pets   \n",
       "1                                         NaN   \n",
       "2                Yes, my landlord allows pets   \n",
       "3                Yes, my landlord allows pets   \n",
       "4                Yes, my landlord allows pets   \n",
       "\n",
       "  Does your landlord or home insurance place any breed or weight restrictions on the animals you are allowed to have?  \\\n",
       "0                                   No restrictions!                                                                    \n",
       "1                                                NaN                                                                    \n",
       "2                                                 No                                                                    \n",
       "3                                                 No                                                                    \n",
       "4                                                 No                                                                    \n",
       "\n",
       "     Do you have a yard? Do you have screens in your windows?  \\\n",
       "0  I don't have a yard.                                   Yes   \n",
       "1    Yes, a fenced yard.                                  Yes   \n",
       "2  I don't have a yard.                                    No   \n",
       "3  I don't have a yard.                                   Yes   \n",
       "4  I don't have a yard.                                   Yes   \n",
       "\n",
       "  Are all the members of your household in agreement about adopting a dog?  \\\n",
       "0                                                Yes                         \n",
       "1                                                Yes                         \n",
       "2                                                Yes                         \n",
       "3                                                Yes                         \n",
       "4                                                Yes                         \n",
       "\n",
       "  Does anyone in the household have pet allergies?  \\\n",
       "0                                               No   \n",
       "1                                               NO   \n",
       "2                                               No   \n",
       "3                                               No   \n",
       "4                                               no   \n",
       "\n",
       "  Do you live in public housing (NYCHA, projects, section 8)?  \\\n",
       "0                                                 No            \n",
       "1                                                 No            \n",
       "2                                                 No            \n",
       "3                                                 No            \n",
       "4                                                 No            \n",
       "\n",
       "  Are you at least 21 years of age and head of household? If not, you will not be approved to adopt with IOHR.  \\\n",
       "0                                     Yes, I am 22.                                                              \n",
       "1                     48 years old head of household                                                             \n",
       "2                                                Yes                                                             \n",
       "3                                                Yes                                                             \n",
       "4                                                yes                                                             \n",
       "\n",
       "   ...  \\\n",
       "0  ...   \n",
       "1  ...   \n",
       "2  ...   \n",
       "3  ...   \n",
       "4  ...   \n",
       "\n",
       "  Please provide the name and phone number for your most recent or current veterinarian (even if you don't have the animals anymore). What name are the records listed under? Please note that some vets require your permission to release information to us; please call your vet now and give them permission as this will help expedite the application process!  \\\n",
       "0  Since I haven't had an animal of my own, I don...                                                                                                                                                                                                                                                                                                                   \n",
       "1                           Lanoka Oaks Veterinarian                                                                                                                                                                                                                                                                                                                   \n",
       "2                   I donÕt have the number anymore                                                                                                                                                                                                                                                                                                                    \n",
       "3  Animal care center- Dr. Monica Kennedy and dr....                                                                                                                                                                                                                                                                                                                   \n",
       "4  I have not had a vet in some years now. The ve...                                                                                                                                                                                                                                                                                                                   \n",
       "\n",
       "  On a regular day, how many hours will the dog be left alone?  \\\n",
       "0                                              4 - 8             \n",
       "1                                              0 - 4             \n",
       "2                                              0 - 4             \n",
       "3                                              0 - 4             \n",
       "4                                              0 - 4             \n",
       "\n",
       "                         Where will the dog be kept?  \\\n",
       "0          He will live indoors in my roomy studio!    \n",
       "1                  In our house, with their own bed.   \n",
       "2                                    In my apartment   \n",
       "3  In a crate when alone, free to roam when super...   \n",
       "4         In the house with supervison or at daycare   \n",
       "\n",
       "  Do you have a contingency plan to pay for unexpected emergency vet bills?  \\\n",
       "0  Yes, my parents are able to support me financi...                          \n",
       "1                                     Yes a savings.                          \n",
       "2  Yes my parents help my out with any extra expe...                          \n",
       "3                                            Savings                          \n",
       "4  Yes, we have a savings account along with purc...                          \n",
       "\n",
       "                How soon do you want to adopt a pup?  \\\n",
       "0  I am uncertain, it would depend on me finding ...   \n",
       "1                    Right away, hand that dog over!   \n",
       "2                    Right away, hand that dog over!   \n",
       "3                    Right away, hand that dog over!   \n",
       "4        I am thinking probably in the next few days   \n",
       "\n",
       "  Have you ever had to give up a pet? If so, why and where did the pet go?  \\\n",
       "0                                              Nope!                         \n",
       "1                                                 no                         \n",
       "2  No but I did move out and my parents kept and ...                         \n",
       "3                                                 No                         \n",
       "4                                                 No                         \n",
       "\n",
       "  Have you been involved in domestic disturbances in which the police were called in your current living situation?  \\\n",
       "0                                              Nope!                                                                  \n",
       "1                                                 no                                                                  \n",
       "2                                                 No                                                                  \n",
       "3                                                 No                                                                  \n",
       "4                                                No                                                                   \n",
       "\n",
       "  If you are adopting with a partner, are you in agreement that the dog will go with one of you should you separate, and not be surrendered back to us or a shelter?  \\\n",
       "0  Yes, although my boyfriend David is excited ab...                                                                                                                   \n",
       "1                                                 na                                                                                                                   \n",
       "2                          Yes but I have no partner                                                                                                                   \n",
       "3                                                Yes                                                                                                                   \n",
       "4                                              Yes.                                                                                                                    \n",
       "\n",
       "  If you are a senior or have serious health conditions, do you have a contingency plan for the dog should you no longer be able to care for it? What is the plan?  \\\n",
       "0  Although I'm not a senior or have serious heal...                                                                                                                 \n",
       "1                                                NaN                                                                                                                 \n",
       "2  My parents, sister or cousin would take the do...                                                                                                                 \n",
       "3                                                N/a                                                                                                                 \n",
       "4                                                NaN                                                                                                                 \n",
       "\n",
       "  Are you willing to work through unexpected hardships with your pet and hire a trainer if need be? i.e. housetraining, separation anxiety, fear, socialization, acclimation to other animals, etc  \n",
       "0                                                Yes                                                                                                                                                \n",
       "1                                                Yes                                                                                                                                                \n",
       "2                                                Yes                                                                                                                                                \n",
       "3                                                Yes                                                                                                                                                \n",
       "4                                                Yes                                                                                                                                                \n",
       "\n",
       "[5 rows x 26 columns]"
      ]
     },
     "execution_count": 5,
     "metadata": {},
     "output_type": "execute_result"
    }
   ],
   "source": [
    "# Inspecting dataframe\n",
    "rejected.head()"
   ]
  },
  {
   "cell_type": "code",
   "execution_count": 6,
   "metadata": {},
   "outputs": [],
   "source": [
    "# Adding 'accepted' column to accepted df and assigning accepted applicants 1 \n",
    "accepted['accepted'] = 1"
   ]
  },
  {
   "cell_type": "code",
   "execution_count": 7,
   "metadata": {},
   "outputs": [],
   "source": [
    "# Adding 'accepted' column to rejected df and assigning accepted applicants 0\n",
    "rejected['accepted'] = 0"
   ]
  },
  {
   "cell_type": "code",
   "execution_count": 8,
   "metadata": {},
   "outputs": [],
   "source": [
    "# Creating new list of column names\n",
    "columns = ['app_id', 'land_lord_allowance', 'rent_own', 'breed_rstr', 'yard', 'screens', 'household_agree', 'allergies', 'pub_housing', 'over_21', 'reason', 'energy', 'vax', 'previous_animals', 'spay_neuter', 'bred', 'vet', 'home_alone', 'dog_kept', 'e_funds', 'how_soon', 'pet_return', 'dom_dispute', 'partner_agrees', 'senior', 'training_hardships', 'accepted']"
   ]
  },
  {
   "cell_type": "code",
   "execution_count": 9,
   "metadata": {},
   "outputs": [],
   "source": [
    "# Reassigning columns from columns list\n",
    "accepted.columns = columns"
   ]
  },
  {
   "cell_type": "code",
   "execution_count": 10,
   "metadata": {},
   "outputs": [],
   "source": [
    "# Reassigning columns from columns list\n",
    "rejected.columns = columns"
   ]
  },
  {
   "cell_type": "code",
   "execution_count": 11,
   "metadata": {},
   "outputs": [],
   "source": [
    "# Joining accepted and rejected into one DF\n",
    "accepted_and_rejected = pd.concat([accepted, rejected])"
   ]
  },
  {
   "cell_type": "code",
   "execution_count": 12,
   "metadata": {},
   "outputs": [],
   "source": [
    "# dropping columns with nulls\n",
    "accepted_and_rejected.drop(['app_id','land_lord_allowance', 'senior'], axis=1, inplace=True)"
   ]
  },
  {
   "cell_type": "code",
   "execution_count": 13,
   "metadata": {},
   "outputs": [],
   "source": [
    "# Setting target\n",
    "target = accepted_and_rejected[['accepted']]"
   ]
  },
  {
   "cell_type": "markdown",
   "metadata": {},
   "source": [
    "### Adding more data"
   ]
  },
  {
   "cell_type": "code",
   "execution_count": 14,
   "metadata": {},
   "outputs": [],
   "source": [
    "new_accept = pd.read_csv('./data/IOHR_accept.csv', encoding='latin-1')"
   ]
  },
  {
   "cell_type": "code",
   "execution_count": 15,
   "metadata": {},
   "outputs": [],
   "source": [
    "new_accept['accepted'] = 1"
   ]
  },
  {
   "cell_type": "code",
   "execution_count": 16,
   "metadata": {},
   "outputs": [],
   "source": [
    "new_reject = pd.read_csv('./data/IOHR_rejected.csv', encoding='latin-1')"
   ]
  },
  {
   "cell_type": "code",
   "execution_count": 17,
   "metadata": {},
   "outputs": [],
   "source": [
    "new_reject['accepted'] = 0 "
   ]
  },
  {
   "cell_type": "code",
   "execution_count": 18,
   "metadata": {},
   "outputs": [],
   "source": [
    "new_accept_reject = pd.concat([new_accept, new_reject])"
   ]
  },
  {
   "cell_type": "code",
   "execution_count": 19,
   "metadata": {},
   "outputs": [],
   "source": [
    "columns = ['rent_own', 'breed_rstr', 'yard', 'screens', 'household_agree', 'allergies', 'pub_housing', 'over_21', 'reason', 'energy', 'vax', 'previous_animals', 'spay_neuter', 'bred', 'vet', 'home_alone', 'dog_kept', 'e_funds', 'how_soon', 'pet_return', 'dom_dispute', 'partner_agrees', 'training_hardships', 'accepted']"
   ]
  },
  {
   "cell_type": "code",
   "execution_count": 20,
   "metadata": {},
   "outputs": [],
   "source": [
    "new_accept_reject.columns = columns"
   ]
  },
  {
   "cell_type": "code",
   "execution_count": 21,
   "metadata": {},
   "outputs": [],
   "source": [
    "# Creating a separate 'target' dataframe for the new data\n",
    "target2 = new_accept_reject[['accepted']]"
   ]
  },
  {
   "cell_type": "code",
   "execution_count": 22,
   "metadata": {},
   "outputs": [
    {
     "data": {
      "text/plain": [
       "(2397, 24)"
      ]
     },
     "execution_count": 22,
     "metadata": {},
     "output_type": "execute_result"
    }
   ],
   "source": [
    "# Checking shape\n",
    "new_accept_reject.shape"
   ]
  },
  {
   "cell_type": "code",
   "execution_count": 24,
   "metadata": {},
   "outputs": [],
   "source": [
    "# Adding new data to original dataframe\n",
    "accepted_and_rejected = pd.concat([accepted_and_rejected, new_accept_reject])"
   ]
  },
  {
   "cell_type": "code",
   "execution_count": 25,
   "metadata": {},
   "outputs": [
    {
     "data": {
      "text/plain": [
       "(3414, 24)"
      ]
     },
     "execution_count": 25,
     "metadata": {},
     "output_type": "execute_result"
    }
   ],
   "source": [
    "# Checking shape\n",
    "accepted_and_rejected.shape"
   ]
  },
  {
   "cell_type": "code",
   "execution_count": 26,
   "metadata": {},
   "outputs": [],
   "source": [
    "# Dropping the same columns as original dataset\n",
    "accepted_and_rejected = accepted_and_rejected.drop(['over_21', 'reason', 'dog_kept', 'bred', 'e_funds', 'dom_dispute', 'partner_agrees', 'allergies', 'vax'], axis=1)"
   ]
  },
  {
   "cell_type": "code",
   "execution_count": 27,
   "metadata": {},
   "outputs": [
    {
     "data": {
      "text/plain": [
       "(3414, 15)"
      ]
     },
     "execution_count": 27,
     "metadata": {},
     "output_type": "execute_result"
    }
   ],
   "source": [
    "accepted_and_rejected.shape"
   ]
  },
  {
   "cell_type": "markdown",
   "metadata": {},
   "source": [
    "### Joining targets into one DF"
   ]
  },
  {
   "cell_type": "code",
   "execution_count": 28,
   "metadata": {},
   "outputs": [],
   "source": [
    "accepted_and_rejected.fillna('', inplace=True)"
   ]
  },
  {
   "cell_type": "code",
   "execution_count": 29,
   "metadata": {},
   "outputs": [],
   "source": [
    "target = pd.concat([target, target2])"
   ]
  },
  {
   "cell_type": "markdown",
   "metadata": {},
   "source": [
    "### Removing gross chars from d"
   ]
  },
  {
   "cell_type": "code",
   "execution_count": 30,
   "metadata": {},
   "outputs": [],
   "source": [
    "# This function takes in a column and replaces the Õ character with an empty string\n",
    "def remove_char1(columns):\n",
    "    return columns.apply(lambda x: x.replace('Õ',''))"
   ]
  },
  {
   "cell_type": "code",
   "execution_count": 31,
   "metadata": {},
   "outputs": [],
   "source": [
    "# This function loops thru every column that isn't the 'accepted' column and removes the character\n",
    "for columns in accepted_and_rejected.columns:\n",
    "    if columns != 'accepted':\n",
    "        accepted_and_rejected[columns] = remove_char1(accepted_and_rejected[columns])"
   ]
  },
  {
   "cell_type": "code",
   "execution_count": 32,
   "metadata": {},
   "outputs": [],
   "source": [
    "# This function takes in a column and replaces the Ñ character with an empty string\n",
    "def remove_char2(columns):\n",
    "    return columns.apply(lambda x: x.replace('Ñ',''))"
   ]
  },
  {
   "cell_type": "code",
   "execution_count": 33,
   "metadata": {},
   "outputs": [],
   "source": [
    "# This function loops thru every column that isn't the 'accepted' column and removes the character\n",
    "for columns in accepted_and_rejected.columns:\n",
    "    if columns != 'accepted':\n",
    "        accepted_and_rejected[columns] = remove_char2(accepted_and_rejected[columns])"
   ]
  },
  {
   "cell_type": "code",
   "execution_count": 34,
   "metadata": {},
   "outputs": [
    {
     "data": {
      "text/html": [
       "<div>\n",
       "<style scoped>\n",
       "    .dataframe tbody tr th:only-of-type {\n",
       "        vertical-align: middle;\n",
       "    }\n",
       "\n",
       "    .dataframe tbody tr th {\n",
       "        vertical-align: top;\n",
       "    }\n",
       "\n",
       "    .dataframe thead th {\n",
       "        text-align: right;\n",
       "    }\n",
       "</style>\n",
       "<table border=\"1\" class=\"dataframe\">\n",
       "  <thead>\n",
       "    <tr style=\"text-align: right;\">\n",
       "      <th></th>\n",
       "      <th>rent_own</th>\n",
       "      <th>breed_rstr</th>\n",
       "      <th>yard</th>\n",
       "      <th>screens</th>\n",
       "      <th>household_agree</th>\n",
       "      <th>pub_housing</th>\n",
       "      <th>energy</th>\n",
       "      <th>previous_animals</th>\n",
       "      <th>spay_neuter</th>\n",
       "      <th>vet</th>\n",
       "      <th>home_alone</th>\n",
       "      <th>how_soon</th>\n",
       "      <th>pet_return</th>\n",
       "      <th>training_hardships</th>\n",
       "      <th>accepted</th>\n",
       "    </tr>\n",
       "  </thead>\n",
       "  <tbody>\n",
       "    <tr>\n",
       "      <th>0</th>\n",
       "      <td>I own my home and do not need approval from a ...</td>\n",
       "      <td></td>\n",
       "      <td>Yes, a fenced yard.</td>\n",
       "      <td>Yes</td>\n",
       "      <td>Yes</td>\n",
       "      <td>No</td>\n",
       "      <td>Active - Short walks and dog park play</td>\n",
       "      <td>We made a newbie mistake of buying her from a ...</td>\n",
       "      <td>I don't have animals</td>\n",
       "      <td>Animal Wellness Center 631-351-0447</td>\n",
       "      <td>0 - 4</td>\n",
       "      <td>I am uncertain, it would depend on me finding ...</td>\n",
       "      <td>No</td>\n",
       "      <td>Yes</td>\n",
       "      <td>1</td>\n",
       "    </tr>\n",
       "    <tr>\n",
       "      <th>1</th>\n",
       "      <td>I own my home and do not need approval from a ...</td>\n",
       "      <td>No</td>\n",
       "      <td>Yes, a fenced yard.</td>\n",
       "      <td>Yes</td>\n",
       "      <td>Yes</td>\n",
       "      <td>No</td>\n",
       "      <td>Active - Short walks and dog park play</td>\n",
       "      <td>Charm City Puppies in Columbia, MD</td>\n",
       "      <td>Yes all of my animals are spayed/neutered</td>\n",
       "      <td>Light Street Animal Hospital - (410) 547-8385</td>\n",
       "      <td>0 - 4</td>\n",
       "      <td>Right away, hand that dog over!</td>\n",
       "      <td>No</td>\n",
       "      <td>Yes</td>\n",
       "      <td>1</td>\n",
       "    </tr>\n",
       "    <tr>\n",
       "      <th>2</th>\n",
       "      <td>I own my home and do not need approval from a ...</td>\n",
       "      <td>no</td>\n",
       "      <td>Yes, an unfenced yard.</td>\n",
       "      <td>Yes</td>\n",
       "      <td>Yes</td>\n",
       "      <td>No</td>\n",
       "      <td>Mellow - Short, daily walks</td>\n",
       "      <td>Frederick Cty Shelter, Washington Cty. Shelter...</td>\n",
       "      <td>Yes all of my animals are spayed/neutered</td>\n",
       "      <td>Park Circle Animal Hospital 362 Virginia Ave, ...</td>\n",
       "      <td>0 - 4</td>\n",
       "      <td>I am taking my time, a few weeks is fine</td>\n",
       "      <td>No</td>\n",
       "      <td>Yes</td>\n",
       "      <td>1</td>\n",
       "    </tr>\n",
       "    <tr>\n",
       "      <th>3</th>\n",
       "      <td>Yes, my landlord allows pets</td>\n",
       "      <td>Nom</td>\n",
       "      <td>I don't have a yard.</td>\n",
       "      <td>No</td>\n",
       "      <td>Yes</td>\n",
       "      <td>No</td>\n",
       "      <td>Active - Short walks and dog park play</td>\n",
       "      <td>Zoe from a Canadian breeder  family no longer ...</td>\n",
       "      <td>Yes all of my animals are spayed/neutered</td>\n",
       "      <td>Dr. Pet Daddy(Dr. Yoo), 2715 24th Ave, Astoria...</td>\n",
       "      <td>4 - 8</td>\n",
       "      <td>I am taking my time, a few weeks is fine</td>\n",
       "      <td>Never I have had pets most of my life, no surr...</td>\n",
       "      <td>Yes</td>\n",
       "      <td>1</td>\n",
       "    </tr>\n",
       "    <tr>\n",
       "      <th>4</th>\n",
       "      <td>I own my home and do not need approval from a ...</td>\n",
       "      <td></td>\n",
       "      <td>Yes, an unfenced yard.</td>\n",
       "      <td>Yes</td>\n",
       "      <td>Yes</td>\n",
       "      <td>No</td>\n",
       "      <td>Active - Short walks and dog park play</td>\n",
       "      <td>First 2 Goldens breeder last 3 Goldens from su...</td>\n",
       "      <td>Yes all of my animals are spayed/neutered</td>\n",
       "      <td>Jeff Sachar 203 876 7471</td>\n",
       "      <td>0 - 4</td>\n",
       "      <td>I am taking my time, a few weeks is fine</td>\n",
       "      <td>No</td>\n",
       "      <td>Yes</td>\n",
       "      <td>1</td>\n",
       "    </tr>\n",
       "  </tbody>\n",
       "</table>\n",
       "</div>"
      ],
      "text/plain": [
       "                                            rent_own breed_rstr  \\\n",
       "0  I own my home and do not need approval from a ...              \n",
       "1  I own my home and do not need approval from a ...         No   \n",
       "2  I own my home and do not need approval from a ...         no   \n",
       "3                       Yes, my landlord allows pets        Nom   \n",
       "4  I own my home and do not need approval from a ...              \n",
       "\n",
       "                     yard screens household_agree pub_housing  \\\n",
       "0     Yes, a fenced yard.     Yes             Yes          No   \n",
       "1     Yes, a fenced yard.     Yes             Yes          No   \n",
       "2  Yes, an unfenced yard.     Yes             Yes          No   \n",
       "3   I don't have a yard.       No             Yes          No   \n",
       "4  Yes, an unfenced yard.     Yes             Yes          No   \n",
       "\n",
       "                                   energy  \\\n",
       "0  Active - Short walks and dog park play   \n",
       "1  Active - Short walks and dog park play   \n",
       "2             Mellow - Short, daily walks   \n",
       "3  Active - Short walks and dog park play   \n",
       "4  Active - Short walks and dog park play   \n",
       "\n",
       "                                    previous_animals  \\\n",
       "0  We made a newbie mistake of buying her from a ...   \n",
       "1                 Charm City Puppies in Columbia, MD   \n",
       "2  Frederick Cty Shelter, Washington Cty. Shelter...   \n",
       "3  Zoe from a Canadian breeder  family no longer ...   \n",
       "4  First 2 Goldens breeder last 3 Goldens from su...   \n",
       "\n",
       "                                 spay_neuter  \\\n",
       "0                      I don't have animals    \n",
       "1  Yes all of my animals are spayed/neutered   \n",
       "2  Yes all of my animals are spayed/neutered   \n",
       "3  Yes all of my animals are spayed/neutered   \n",
       "4  Yes all of my animals are spayed/neutered   \n",
       "\n",
       "                                                 vet home_alone  \\\n",
       "0                Animal Wellness Center 631-351-0447      0 - 4   \n",
       "1      Light Street Animal Hospital - (410) 547-8385      0 - 4   \n",
       "2  Park Circle Animal Hospital 362 Virginia Ave, ...      0 - 4   \n",
       "3  Dr. Pet Daddy(Dr. Yoo), 2715 24th Ave, Astoria...      4 - 8   \n",
       "4                           Jeff Sachar 203 876 7471      0 - 4   \n",
       "\n",
       "                                            how_soon  \\\n",
       "0  I am uncertain, it would depend on me finding ...   \n",
       "1                    Right away, hand that dog over!   \n",
       "2          I am taking my time, a few weeks is fine    \n",
       "3          I am taking my time, a few weeks is fine    \n",
       "4          I am taking my time, a few weeks is fine    \n",
       "\n",
       "                                          pet_return training_hardships  \\\n",
       "0                                                 No                Yes   \n",
       "1                                                No                 Yes   \n",
       "2                                                 No                Yes   \n",
       "3  Never I have had pets most of my life, no surr...                Yes   \n",
       "4                                                 No                Yes   \n",
       "\n",
       "   accepted  \n",
       "0         1  \n",
       "1         1  \n",
       "2         1  \n",
       "3         1  \n",
       "4         1  "
      ]
     },
     "execution_count": 34,
     "metadata": {},
     "output_type": "execute_result"
    }
   ],
   "source": [
    "# Checking to see if it worked! Yep - looks good.\n",
    "accepted_and_rejected.head()"
   ]
  },
  {
   "cell_type": "code",
   "execution_count": 35,
   "metadata": {},
   "outputs": [],
   "source": [
    "# Filling nulls\n",
    "accepted_and_rejected.fillna('none', inplace=True)"
   ]
  },
  {
   "cell_type": "markdown",
   "metadata": {},
   "source": [
    "###  Feature engineering 'vet' column"
   ]
  },
  {
   "cell_type": "code",
   "execution_count": 36,
   "metadata": {},
   "outputs": [],
   "source": [
    "# Creating a lists for categories in vet column\n",
    "not_applicable = ['n/a', 'na', 'not applicable', 'yet', 'no pets']\n",
    "none = ['none', 'dont have one', 'no', 'unknown', ]\n",
    "vet = ['dr', 'vet', 'veterinary', 'hospital', 'animal', 'aspca', 'rd', 'pl', 'dr', 'st', 'clinic', 'humane society']"
   ]
  },
  {
   "cell_type": "code",
   "execution_count": 37,
   "metadata": {},
   "outputs": [],
   "source": [
    "# This function replaces the cell contents in the 'vet' column with words in the list above\n",
    "def vet_map(value):\n",
    "    value = value.lower().strip()\n",
    "    for word in not_applicable:\n",
    "        if word in value:\n",
    "            value = 'not_applicable'\n",
    "            return value\n",
    "    for word in none:\n",
    "        if word in value:\n",
    "            value = 'none'\n",
    "            return value\n",
    "    for word in vet:\n",
    "        if word in value:\n",
    "            value = 'vet'\n",
    "            return value\n",
    "    else:\n",
    "        value = 'other'\n",
    "        return value"
   ]
  },
  {
   "cell_type": "code",
   "execution_count": 38,
   "metadata": {},
   "outputs": [
    {
     "data": {
      "text/plain": [
       "vet               1127\n",
       "not_applicable    1080\n",
       "other              785\n",
       "none               422\n",
       "Name: vet, dtype: int64"
      ]
     },
     "execution_count": 38,
     "metadata": {},
     "output_type": "execute_result"
    }
   ],
   "source": [
    "accepted_and_rejected['vet'].map(lambda x: vet_map(x)).value_counts()"
   ]
  },
  {
   "cell_type": "markdown",
   "metadata": {},
   "source": [
    "### Feature engineering previous_pet column"
   ]
  },
  {
   "cell_type": "code",
   "execution_count": 39,
   "metadata": {},
   "outputs": [],
   "source": [
    "# Creating a lists for categories in previous_pet column\n",
    "shelters = ['shelter', 'rescued', 'aspca', 'north shore animal league', 'rescue', 'adoption agency', 'in our hands rescue', 'adopted', 'rd', 'pl', 'dr', 'st', 'clinic']\n",
    "breeders = ['breeder', 'a breeder', 'private breeder']\n",
    "pet_stores = ['petco', 'pet shop', 'gift', 'pet land']\n",
    "family_friend = ['friend', 'family friend', 'a family friend', 'not sure', 'my mother', 'a friend']\n",
    "none = ['none', 'na', 'not applicable', 'no', 'no pet', '0', 'never had one', 'no previous pet', 'no current pet']\n",
    "\n",
    "# This function replaces the cell contents in the 'vet' column with words in the list above\n",
    "def pet_map(value):\n",
    "    value = value.lower().strip()\n",
    "    for word in shelters:\n",
    "        if word in value:\n",
    "            value = 'shelter'\n",
    "            return value\n",
    "    for word in breeders:\n",
    "        if word in value:\n",
    "            value = 'breeder'\n",
    "            return value\n",
    "    for word in pet_stores:\n",
    "        if word in value:\n",
    "            value = 'pet_store'\n",
    "            return value\n",
    "    for word in family_friend:\n",
    "        if word in value:\n",
    "            value = 'family_friend'\n",
    "            return value\n",
    "    for word in none:\n",
    "        if word in value:\n",
    "            value = 'none'\n",
    "            return value\n",
    "    else:\n",
    "        value = 'other'\n",
    "        return value"
   ]
  },
  {
   "cell_type": "code",
   "execution_count": 40,
   "metadata": {},
   "outputs": [
    {
     "data": {
      "text/plain": [
       "shelter          1595\n",
       "other             920\n",
       "none              366\n",
       "breeder           287\n",
       "family_friend     167\n",
       "pet_store          79\n",
       "Name: previous_animals, dtype: int64"
      ]
     },
     "execution_count": 40,
     "metadata": {},
     "output_type": "execute_result"
    }
   ],
   "source": [
    "accepted_and_rejected['previous_animals'].map(lambda x: pet_map(x)).value_counts()"
   ]
  },
  {
   "cell_type": "markdown",
   "metadata": {},
   "source": [
    "### Feature engineering breed restrictions column"
   ]
  },
  {
   "cell_type": "code",
   "execution_count": 41,
   "metadata": {},
   "outputs": [],
   "source": [
    "# Creating a lists for categories in breed restrictions to be more sensitive to applicants wtih restrictions\n",
    "yes = ['yes', 'lb', 'lbs', 'pounds', 'large', 'small', 'big', 'medium', 'pitbulls', 'pit bulls', 'under', 'over', 'maximum', 'max', ]"
   ]
  },
  {
   "cell_type": "code",
   "execution_count": 42,
   "metadata": {},
   "outputs": [],
   "source": [
    "# This function replaces the cell contents in the 'breed restrictions' column with words in the list above\n",
    "def restriction_map(value):\n",
    "    value = value.lower().strip()\n",
    "    for word in yes:\n",
    "        if word in value:\n",
    "            value = 'restrictions'\n",
    "            return value\n",
    "    else:\n",
    "        value = 'unkown'\n",
    "        return value"
   ]
  },
  {
   "cell_type": "code",
   "execution_count": 43,
   "metadata": {},
   "outputs": [
    {
     "data": {
      "text/plain": [
       "unkown          3069\n",
       "restrictions     345\n",
       "Name: breed_rstr, dtype: int64"
      ]
     },
     "execution_count": 43,
     "metadata": {},
     "output_type": "execute_result"
    }
   ],
   "source": [
    "accepted_and_rejected['breed_rstr'].map(lambda x: restriction_map(x)).value_counts()"
   ]
  },
  {
   "cell_type": "markdown",
   "metadata": {},
   "source": [
    "### Engineering pet_return column"
   ]
  },
  {
   "cell_type": "code",
   "execution_count": 44,
   "metadata": {},
   "outputs": [],
   "source": [
    "# Creating a lists for categories in pet_return\n",
    "yes = ['yes', 'yeah', 'unfortunately', 'gave up', 'returned', 'had to']"
   ]
  },
  {
   "cell_type": "code",
   "execution_count": 45,
   "metadata": {},
   "outputs": [],
   "source": [
    "# This function replaces the cell contents in the 'pet_return' column with words in the list above\n",
    "def pet_return_map(value):\n",
    "    value = value.lower().strip()\n",
    "    for word in yes:\n",
    "        if word in value:\n",
    "            value = 'yes'\n",
    "            return value\n",
    "    else:\n",
    "        value = 'unkown'\n",
    "        return value"
   ]
  },
  {
   "cell_type": "code",
   "execution_count": 46,
   "metadata": {},
   "outputs": [
    {
     "data": {
      "text/plain": [
       "unkown    3310\n",
       "yes        104\n",
       "Name: breed_rstr, dtype: int64"
      ]
     },
     "execution_count": 46,
     "metadata": {},
     "output_type": "execute_result"
    }
   ],
   "source": [
    "accepted_and_rejected['breed_rstr'].map(lambda x: pet_return_map(x)).value_counts()"
   ]
  },
  {
   "cell_type": "markdown",
   "metadata": {},
   "source": [
    "### Weight Generator"
   ]
  },
  {
   "cell_type": "code",
   "execution_count": 47,
   "metadata": {},
   "outputs": [],
   "source": [
    "# the following function takes in the training and testing dataframes and ranks all the object columns by the average of each category.\n",
    "def weight_gen(df):\n",
    "    # loop through every column in the dataframe\n",
    "    for col in df.columns:\n",
    "        # perform the following only on the object columns\n",
    "        if df[col].dtype == 'O':\n",
    "            # grouping the columns by category and calculating the mean of the accepted for each category\n",
    "            avgs = df.groupby(col)['accepted'].mean()\n",
    "            # imputing the values of each column of the data with the average for the corresponding category\n",
    "            df[col] = df[col].map(lambda val: avgs[val])"
   ]
  },
  {
   "cell_type": "code",
   "execution_count": 48,
   "metadata": {},
   "outputs": [],
   "source": [
    "weight_gen(accepted_and_rejected)"
   ]
  },
  {
   "cell_type": "code",
   "execution_count": 49,
   "metadata": {},
   "outputs": [
    {
     "data": {
      "text/html": [
       "<div>\n",
       "<style scoped>\n",
       "    .dataframe tbody tr th:only-of-type {\n",
       "        vertical-align: middle;\n",
       "    }\n",
       "\n",
       "    .dataframe tbody tr th {\n",
       "        vertical-align: top;\n",
       "    }\n",
       "\n",
       "    .dataframe thead th {\n",
       "        text-align: right;\n",
       "    }\n",
       "</style>\n",
       "<table border=\"1\" class=\"dataframe\">\n",
       "  <thead>\n",
       "    <tr style=\"text-align: right;\">\n",
       "      <th></th>\n",
       "      <th>rent_own</th>\n",
       "      <th>breed_rstr</th>\n",
       "      <th>yard</th>\n",
       "      <th>screens</th>\n",
       "      <th>household_agree</th>\n",
       "      <th>pub_housing</th>\n",
       "      <th>energy</th>\n",
       "      <th>previous_animals</th>\n",
       "      <th>spay_neuter</th>\n",
       "      <th>vet</th>\n",
       "      <th>home_alone</th>\n",
       "      <th>how_soon</th>\n",
       "      <th>pet_return</th>\n",
       "      <th>training_hardships</th>\n",
       "      <th>accepted</th>\n",
       "    </tr>\n",
       "  </thead>\n",
       "  <tbody>\n",
       "    <tr>\n",
       "      <th>0</th>\n",
       "      <td>0.639594</td>\n",
       "      <td>0.616838</td>\n",
       "      <td>0.605452</td>\n",
       "      <td>0.568445</td>\n",
       "      <td>0.57739</td>\n",
       "      <td>0.606304</td>\n",
       "      <td>0.589908</td>\n",
       "      <td>1.0</td>\n",
       "      <td>0.546845</td>\n",
       "      <td>1.0</td>\n",
       "      <td>0.546039</td>\n",
       "      <td>0.695522</td>\n",
       "      <td>0.617241</td>\n",
       "      <td>0.583082</td>\n",
       "      <td>1</td>\n",
       "    </tr>\n",
       "    <tr>\n",
       "      <th>1</th>\n",
       "      <td>0.639594</td>\n",
       "      <td>0.544894</td>\n",
       "      <td>0.605452</td>\n",
       "      <td>0.568445</td>\n",
       "      <td>0.57739</td>\n",
       "      <td>0.606304</td>\n",
       "      <td>0.589908</td>\n",
       "      <td>1.0</td>\n",
       "      <td>0.690867</td>\n",
       "      <td>1.0</td>\n",
       "      <td>0.546039</td>\n",
       "      <td>0.511148</td>\n",
       "      <td>0.457364</td>\n",
       "      <td>0.583082</td>\n",
       "      <td>1</td>\n",
       "    </tr>\n",
       "    <tr>\n",
       "      <th>2</th>\n",
       "      <td>0.639594</td>\n",
       "      <td>0.526119</td>\n",
       "      <td>0.581262</td>\n",
       "      <td>0.568445</td>\n",
       "      <td>0.57739</td>\n",
       "      <td>0.606304</td>\n",
       "      <td>0.578755</td>\n",
       "      <td>1.0</td>\n",
       "      <td>0.690867</td>\n",
       "      <td>1.0</td>\n",
       "      <td>0.546039</td>\n",
       "      <td>0.657505</td>\n",
       "      <td>0.617241</td>\n",
       "      <td>0.583082</td>\n",
       "      <td>1</td>\n",
       "    </tr>\n",
       "    <tr>\n",
       "      <th>3</th>\n",
       "      <td>0.468531</td>\n",
       "      <td>1.000000</td>\n",
       "      <td>0.545090</td>\n",
       "      <td>0.652174</td>\n",
       "      <td>0.57739</td>\n",
       "      <td>0.606304</td>\n",
       "      <td>0.589908</td>\n",
       "      <td>1.0</td>\n",
       "      <td>0.690867</td>\n",
       "      <td>1.0</td>\n",
       "      <td>0.650235</td>\n",
       "      <td>0.657505</td>\n",
       "      <td>1.000000</td>\n",
       "      <td>0.583082</td>\n",
       "      <td>1</td>\n",
       "    </tr>\n",
       "    <tr>\n",
       "      <th>4</th>\n",
       "      <td>0.639594</td>\n",
       "      <td>0.616838</td>\n",
       "      <td>0.581262</td>\n",
       "      <td>0.568445</td>\n",
       "      <td>0.57739</td>\n",
       "      <td>0.606304</td>\n",
       "      <td>0.589908</td>\n",
       "      <td>1.0</td>\n",
       "      <td>0.690867</td>\n",
       "      <td>1.0</td>\n",
       "      <td>0.546039</td>\n",
       "      <td>0.657505</td>\n",
       "      <td>0.617241</td>\n",
       "      <td>0.583082</td>\n",
       "      <td>1</td>\n",
       "    </tr>\n",
       "  </tbody>\n",
       "</table>\n",
       "</div>"
      ],
      "text/plain": [
       "   rent_own  breed_rstr      yard   screens  household_agree  pub_housing  \\\n",
       "0  0.639594    0.616838  0.605452  0.568445          0.57739     0.606304   \n",
       "1  0.639594    0.544894  0.605452  0.568445          0.57739     0.606304   \n",
       "2  0.639594    0.526119  0.581262  0.568445          0.57739     0.606304   \n",
       "3  0.468531    1.000000  0.545090  0.652174          0.57739     0.606304   \n",
       "4  0.639594    0.616838  0.581262  0.568445          0.57739     0.606304   \n",
       "\n",
       "     energy  previous_animals  spay_neuter  vet  home_alone  how_soon  \\\n",
       "0  0.589908               1.0     0.546845  1.0    0.546039  0.695522   \n",
       "1  0.589908               1.0     0.690867  1.0    0.546039  0.511148   \n",
       "2  0.578755               1.0     0.690867  1.0    0.546039  0.657505   \n",
       "3  0.589908               1.0     0.690867  1.0    0.650235  0.657505   \n",
       "4  0.589908               1.0     0.690867  1.0    0.546039  0.657505   \n",
       "\n",
       "   pet_return  training_hardships  accepted  \n",
       "0    0.617241            0.583082         1  \n",
       "1    0.457364            0.583082         1  \n",
       "2    0.617241            0.583082         1  \n",
       "3    1.000000            0.583082         1  \n",
       "4    0.617241            0.583082         1  "
      ]
     },
     "execution_count": 49,
     "metadata": {},
     "output_type": "execute_result"
    }
   ],
   "source": [
    "accepted_and_rejected.head()"
   ]
  },
  {
   "cell_type": "markdown",
   "metadata": {},
   "source": [
    "### Train/Test Split"
   ]
  },
  {
   "cell_type": "code",
   "execution_count": 50,
   "metadata": {},
   "outputs": [],
   "source": [
    "X = accepted_and_rejected.drop(['accepted'], axis=1)\n",
    "y = accepted_and_rejected['accepted']"
   ]
  },
  {
   "cell_type": "code",
   "execution_count": 51,
   "metadata": {},
   "outputs": [],
   "source": [
    "X_train, X_test, y_train, y_test = train_test_split(X, y, stratify=y, random_state=420)"
   ]
  },
  {
   "cell_type": "markdown",
   "metadata": {},
   "source": [
    "### Modeling"
   ]
  },
  {
   "cell_type": "code",
   "execution_count": 52,
   "metadata": {},
   "outputs": [],
   "source": [
    "from sklearn.linear_model import LogisticRegression\n",
    "from sklearn.tree import DecisionTreeClassifier\n",
    "from sklearn.ensemble import BaggingClassifier, RandomForestClassifier, AdaBoostClassifier\n",
    "from sklearn.svm import SVC\n",
    "from sklearn.preprocessing import StandardScaler"
   ]
  },
  {
   "cell_type": "code",
   "execution_count": 58,
   "metadata": {},
   "outputs": [
    {
     "name": "stderr",
     "output_type": "stream",
     "text": [
      "/Users/stephaniedisalvo/anaconda3/envs/dsi/lib/python3.7/site-packages/sklearn/linear_model/logistic.py:433: FutureWarning: Default solver will be changed to 'lbfgs' in 0.22. Specify a solver to silence this warning.\n",
      "  FutureWarning)\n",
      "/Users/stephaniedisalvo/anaconda3/envs/dsi/lib/python3.7/site-packages/sklearn/ensemble/forest.py:246: FutureWarning: The default value of n_estimators will change from 10 in version 0.20 to 100 in 0.22.\n",
      "  \"10 in version 0.20 to 100 in 0.22.\", FutureWarning)\n",
      "/Users/stephaniedisalvo/anaconda3/envs/dsi/lib/python3.7/site-packages/sklearn/svm/base.py:196: FutureWarning: The default value of gamma will change from 'auto' to 'scale' in version 0.22 to account better for unscaled features. Set gamma explicitly to 'auto' or 'scale' to avoid this warning.\n",
      "  \"avoid this warning.\", FutureWarning)\n"
     ]
    },
    {
     "data": {
      "text/plain": [
       "SVC(C=1.0, cache_size=200, class_weight=None, coef0=0.0,\n",
       "  decision_function_shape='ovr', degree=3, gamma='auto_deprecated',\n",
       "  kernel='rbf', max_iter=-1, probability=False, random_state=None,\n",
       "  shrinking=True, tol=0.001, verbose=False)"
      ]
     },
     "execution_count": 58,
     "metadata": {},
     "output_type": "execute_result"
    }
   ],
   "source": [
    "# Testing LogisticRegression, DecisionTree, BaggingClassifier, RandomForest, Adaboost, and SVC\n",
    "lr = LogisticRegression()\n",
    "lr.fit(X_train, y_train)\n",
    "\n",
    "cc = DecisionTreeClassifier()\n",
    "cc.fit(X_train, y_train)\n",
    "\n",
    "bc = BaggingClassifier()\n",
    "bc.fit(X_train, y_train)\n",
    "\n",
    "rf = RandomForestClassifier()\n",
    "rf.fit(X_train, y_train)\n",
    "\n",
    "ada = AdaBoostClassifier()\n",
    "ada.fit(X_train, y_train)\n",
    "\n",
    "svc = SVC()\n",
    "svc.fit(X_train, y_train)"
   ]
  },
  {
   "cell_type": "code",
   "execution_count": 54,
   "metadata": {},
   "outputs": [
    {
     "name": "stdout",
     "output_type": "stream",
     "text": [
      "0.947265625\n",
      "0.9648711943793911\n"
     ]
    }
   ],
   "source": [
    "# Printing train and test score for LogisticRegresssion\n",
    "print(lr.score(X_train, y_train))\n",
    "print(lr.score(X_test, y_test))"
   ]
  },
  {
   "cell_type": "code",
   "execution_count": 55,
   "metadata": {},
   "outputs": [
    {
     "name": "stdout",
     "output_type": "stream",
     "text": [
      "0.9484777517564403\n",
      "0.995703125\n"
     ]
    }
   ],
   "source": [
    "# Printing train and test score for DecisionTree\n",
    "print(cc.score(X_test, y_test))\n",
    "print(cc.score(X_train, y_train))"
   ]
  },
  {
   "cell_type": "code",
   "execution_count": 56,
   "metadata": {},
   "outputs": [
    {
     "name": "stdout",
     "output_type": "stream",
     "text": [
      "0.9613583138173302\n",
      "0.99296875\n"
     ]
    }
   ],
   "source": [
    "# Printing train and test score for BaggingClassifier\n",
    "print(bc.score(X_test, y_test))\n",
    "print(bc.score(X_train, y_train))"
   ]
  },
  {
   "cell_type": "code",
   "execution_count": 57,
   "metadata": {},
   "outputs": [
    {
     "name": "stdout",
     "output_type": "stream",
     "text": [
      "0.9613583138173302\n"
     ]
    },
    {
     "data": {
      "text/plain": [
       "0.994140625"
      ]
     },
     "execution_count": 57,
     "metadata": {},
     "output_type": "execute_result"
    }
   ],
   "source": [
    "# Printing train and test score for RandomForest\n",
    "print(rf.score(X_test, y_test))\n",
    "rf.score(X_train, y_train)"
   ]
  },
  {
   "cell_type": "markdown",
   "metadata": {},
   "source": [
    "### Logistic Regression + Polynomial Features"
   ]
  },
  {
   "cell_type": "code",
   "execution_count": 59,
   "metadata": {},
   "outputs": [
    {
     "name": "stderr",
     "output_type": "stream",
     "text": [
      "/Users/stephaniedisalvo/anaconda3/envs/dsi/lib/python3.7/site-packages/sklearn/linear_model/logistic.py:433: FutureWarning: Default solver will be changed to 'lbfgs' in 0.22. Specify a solver to silence this warning.\n",
      "  FutureWarning)\n"
     ]
    },
    {
     "name": "stdout",
     "output_type": "stream",
     "text": [
      "Accuracy (xgboost-Poly Features (cubic)): 0.9551\n",
      "Accuracy (xgboost-Poly Features (cubic)): 0.9649\n"
     ]
    }
   ],
   "source": [
    "# Manually tuned polynomial features and Logistic Regression params\n",
    "model = [('poly_features', PolynomialFeatures(5, interaction_only=False)),\n",
    "         ('LogisticRegression', LogisticRegression(penalty='l1', C=5))]\n",
    "\n",
    "pipeline = Pipeline(steps=model)\n",
    "\n",
    "# xgboost model with cubic features\n",
    "pipeline.fit(X_train, y_train)\n",
    "print('Accuracy (xgboost-Poly Features (cubic)): {:.4f}'.format(pipeline.score(X_train, y_train)))         \n",
    "print('Accuracy (xgboost-Poly Features (cubic)): {:.4f}'.format(pipeline.score(X_test, y_test)))\n",
    "predictions = pipeline.predict(X_test)"
   ]
  },
  {
   "cell_type": "markdown",
   "metadata": {},
   "source": [
    "### XGBoost Time!"
   ]
  },
  {
   "cell_type": "code",
   "execution_count": 60,
   "metadata": {},
   "outputs": [],
   "source": [
    "from xgboost import XGBClassifier"
   ]
  },
  {
   "cell_type": "code",
   "execution_count": 66,
   "metadata": {},
   "outputs": [],
   "source": [
    "from xgboost import plot_importance"
   ]
  },
  {
   "cell_type": "code",
   "execution_count": 61,
   "metadata": {},
   "outputs": [
    {
     "data": {
      "text/plain": [
       "XGBClassifier(base_score=0.5, booster='gbtree', colsample_bylevel=1,\n",
       "       colsample_bytree=1, gamma=5, learning_rate=0.05, max_delta_step=0,\n",
       "       max_depth=10, min_child_weight=2, missing=None, n_estimators=400,\n",
       "       n_jobs=1, nthread=None, objective='binary:logistic', random_state=0,\n",
       "       reg_alpha=0, reg_lambda=1, scale_pos_weight=1, seed=None,\n",
       "       silent=True, subsample=0.8)"
      ]
     },
     "execution_count": 61,
     "metadata": {},
     "output_type": "execute_result"
    }
   ],
   "source": [
    "# fit model on training data\n",
    "gbm = XGBClassifier(max_depth=10, min_child_weight=2, gamma=5, subsample=.8, learning_rate=0.05, n_estimators=400)\n",
    "gbm.fit(X_train, y_train)"
   ]
  },
  {
   "cell_type": "code",
   "execution_count": 62,
   "metadata": {},
   "outputs": [
    {
     "name": "stdout",
     "output_type": "stream",
     "text": [
      "Accuracy (xgboost-Poly Features (cubic)): 0.9680\n",
      "Accuracy (xgboost-Poly Features (cubic)): 0.9614\n"
     ]
    }
   ],
   "source": [
    "# GridSearched to set optimal features for XGBoost and manually tuned Polynomial Features\n",
    "steps1 = [('poly_features', PolynomialFeatures(3, interaction_only=False)),\n",
    "         ('XGBoost', XGBClassifier(max_depth=10, min_child_weight=1, gamma=10, subsample=.8, learning_rate=0.1, n_estimators=400))]\n",
    "\n",
    "pipeline1 = Pipeline(steps=steps1)\n",
    "\n",
    "## xgboost model with cubic features\n",
    "pipeline1.fit(X_train, y_train)\n",
    "print('Accuracy (xgboost-Poly Features (cubic)): {:.4f}'.format(pipeline1.score(X_train, y_train)))         \n",
    "print('Accuracy (xgboost-Poly Features (cubic)): {:.4f}'.format(pipeline1.score(X_test, y_test)))  \n",
    "predictions = pipeline1.predict(X_test)"
   ]
  },
  {
   "cell_type": "code",
   "execution_count": 63,
   "metadata": {},
   "outputs": [],
   "source": [
    "# Generating predictions for test data\n",
    "y_pred = gbm.predict(X_test)\n",
    "predictions1 = [round(value) for value in y_pred]"
   ]
  },
  {
   "cell_type": "code",
   "execution_count": 64,
   "metadata": {},
   "outputs": [
    {
     "name": "stdout",
     "output_type": "stream",
     "text": [
      "Accuracy: 96.25%\n"
     ]
    }
   ],
   "source": [
    "# Prints accuracy score\n",
    "accuracy = accuracy_score(y_test, predictions1)\n",
    "print(\"Accuracy: %.2f%%\" % (accuracy * 100.0))"
   ]
  },
  {
   "cell_type": "code",
   "execution_count": 65,
   "metadata": {},
   "outputs": [
    {
     "name": "stdout",
     "output_type": "stream",
     "text": [
      "              precision    recall  f1-score   support\n",
      "\n",
      "           0       0.95      0.96      0.96       363\n",
      "           1       0.97      0.96      0.97       491\n",
      "\n",
      "   micro avg       0.96      0.96      0.96       854\n",
      "   macro avg       0.96      0.96      0.96       854\n",
      "weighted avg       0.96      0.96      0.96       854\n",
      "\n"
     ]
    }
   ],
   "source": [
    "# Prints classification report\n",
    "print(classification_report(y_test, predictions1))"
   ]
  },
  {
   "cell_type": "markdown",
   "metadata": {},
   "source": [
    "### Features of Importance"
   ]
  },
  {
   "cell_type": "code",
   "execution_count": 67,
   "metadata": {},
   "outputs": [
    {
     "data": {
      "image/png": "[encoded data removed]",
      "text/plain": [
       "<Figure size 432x288 with 1 Axes>"
      ]
     },
     "metadata": {
      "needs_background": "light"
     },
     "output_type": "display_data"
    }
   ],
   "source": [
    "# Displays a graph of feature importance\n",
    "plot_importance(gbm)\n",
    "plt.show()"
   ]
  },
  {
   "cell_type": "markdown",
   "metadata": {},
   "source": [
    "### PDF Reader"
   ]
  },
  {
   "cell_type": "code",
   "execution_count": null,
   "metadata": {},
   "outputs": [],
   "source": [
    "# Function from StackOverflow\n",
    "\n",
    "from pdfminer.pdfinterp import PDFResourceManager, PDFPageInterpreter\n",
    "from pdfminer.converter import TextConverter\n",
    "from pdfminer.layout import LAParams\n",
    "from pdfminer.pdfpage import PDFPage\n",
    "from io import StringIO\n",
    "\n",
    "def convert_pdf_to_txt(path):\n",
    "    rsrcmgr = PDFResourceManager()\n",
    "    retstr = StringIO()\n",
    "    codec = 'utf-8'\n",
    "    laparams = LAParams()\n",
    "    device = TextConverter(rsrcmgr, retstr, codec=codec, laparams=laparams)\n",
    "    fp = open(path, 'rb')\n",
    "    interpreter = PDFPageInterpreter(rsrcmgr, device)\n",
    "    password = \"\"\n",
    "    maxpages = 0\n",
    "    caching = True\n",
    "    pagenos=set()\n",
    "\n",
    "    for page in PDFPage.get_pages(fp, pagenos, maxpages=maxpages, password=password,caching=caching, check_extractable=True):\n",
    "        interpreter.process_page(page)\n",
    "\n",
    "    text = retstr.getvalue()\n",
    "\n",
    "    fp.close()\n",
    "    device.close()\n",
    "    retstr.close()\n",
    "    return text"
   ]
  },
  {
   "cell_type": "code",
   "execution_count": null,
   "metadata": {},
   "outputs": [],
   "source": [
    "text = convert_pdf_to_txt('1205009_marlene_price_application_for_madalyn.pdf')"
   ]
  },
  {
   "cell_type": "code",
   "execution_count": null,
   "metadata": {},
   "outputs": [],
   "source": [
    "def convert_text_to_df(text):\n",
    "    answers = {'a1': ('Do you own or rent?\\n', '\\n\\nIf you rent, does your landlord allow pets?'),\n",
    "           'a2': ('Does your landlord or home insurance place any breed or weight restrictions on the animals you are\\nallowed to have?\\n', '\\n\\nDo you have a yard?'),\n",
    "           'a3': ('Do you have a yard?\\n', '\\n\\nIf you have a fenced in yard, how high is your fence?'),\n",
    "           'a4': ('Do you have screens in your windows?\\n', '\\n\\nAre all the members of your household in agreement about adopting a dog?'),\n",
    "           'a5': ('Are all the members of your household in agreement about adopting a dog?\\n', '\\n\\nList the members of your household. Name/Relationship/Age'),\n",
    "           'a6': ('Do you live in public housing (NYCHA, projects, section 8)?\\n', '\\n\\nAbout Yourself'),\n",
    "           'a7': ('What energy level would work with your lifestyle?\\n', '\\n\\nPlease list all pets you have had in the last 5 years, and tell us where the pet is now. Please include\\nages of your current pets.'),\n",
    "           'a8': ('Where have your current and previous animals come from? Please list the adoption agency, shelter,\\nor breeder if applicable.\\n', '\\n\\nAre your current cats/dogs spayed or neutered and have your past cats/dogs been spayed or\\nneutered?'),\n",
    "           'a9': ('Are your current cats/dogs spayed or neutered and have your past cats/dogs been spayed or\\nneutered?\\n', '\\n\\nHave you ever bred an animal'),\n",
    "           'a10': ('Have you ever bred an animal\\n', \"\\n\\nPlease provide the name and phone number for your most recent or current veterinarian (even if\\nyou don't have the animals anymore). What name are the records listed under? Please note that\\nsome vets require your permission to release information to us; please call your vet now and give\\nthem permission as this will help expedite the application process!\"),\n",
    "           'a11': (\"Please provide the name and phone number for your most recent or current veterinarian (even if\\nyou don't have the animals anymore). What name are the records listed under? Please note that\\nsome vets require your permission to release information to us; please call your vet now and give\\nthem permission as this will help expedite the application process!\\n\", '\\n\\nOn a regular day, how many hours will the dog be left alone?'),\n",
    "           'a12': ('How soon do you want to adopt a pup?\\n', '\\n\\nWhich dog are you applying for, and do you have any second or third choices from IOHR?'),\n",
    "           'a13': ('On a regular day, how many hours will the dog be left alone?\\n', '\\n\\nWhere will the dog be kept?'),\n",
    "           'a14': (\"Are you willing to work through unexpected hardships with your pet and hire a trainer if need be?\\ni.e. housetraining, separation anxiety, fear, socialization, acclimation to other animals, etc\\n\", \"\\n\\nDescribe any experience you have had with obedience training, or with medical or behavioral issues\")\n",
    "        }\n",
    "    answer_list = []\n",
    "    for key in answers.keys():\n",
    "        start = text.index(answers[key][0]) + len(answers[key][0])\n",
    "        stop = text.index(answers[key][1])\n",
    "        answer = text[start: stop]\n",
    "        answer_list.append(answer)\n",
    "    \n",
    "    applications = pd.DataFrame([answer_list], columns=['rent_own', \n",
    "                                     'breed_rstr', \n",
    "                                     'yard', \n",
    "                                     'screens', \n",
    "                                     'household_agree', \n",
    "                                     'pub_housing',\n",
    "                                     'energy', \n",
    "                                     'previous_animals', \n",
    "                                     'spay_neuter', \n",
    "                                     'vet', \n",
    "                                     'home_alone', \n",
    "                                     'how_soon', \n",
    "                                     'pet_return', \n",
    "                                     'training_hardships'])\n",
    "    return applications"
   ]
  },
  {
   "cell_type": "code",
   "execution_count": null,
   "metadata": {},
   "outputs": [],
   "source": [
    "applications = convert_text_to_pdf(text)"
   ]
  },
  {
   "cell_type": "code",
   "execution_count": null,
   "metadata": {},
   "outputs": [],
   "source": [
    "def remove_char3(columns):\n",
    "    return columns.apply(lambda x: x.replace(\"'\",''))"
   ]
  },
  {
   "cell_type": "code",
   "execution_count": null,
   "metadata": {},
   "outputs": [],
   "source": [
    "for columns in applications.columns:\n",
    "    applications[columns] = remove_char3(applications[columns])"
   ]
  },
  {
   "cell_type": "code",
   "execution_count": null,
   "metadata": {},
   "outputs": [],
   "source": []
  }
 ],
 "metadata": {
  "kernelspec": {
   "display_name": "Python 3",
   "language": "python",
   "name": "python3"
  },
  "language_info": {
   "codemirror_mode": {
    "name": "ipython",
    "version": 3
   },
   "file_extension": ".py",
   "mimetype": "text/x-python",
   "name": "python",
   "nbconvert_exporter": "python",
   "pygments_lexer": "ipython3",
   "version": "3.7.2"
  }
 },
 "nbformat": 4,
 "nbformat_minor": 2
}
